{
 "cells": [
  {
   "cell_type": "markdown",
   "id": "a9c806e7",
   "metadata": {},
   "source": [
    "# FIBONACCI SERIES\n",
    "### 1:Write a program that asks the user how many Fibonnaci numbers to generate and then generates them. Take this opportunity to think about how you can use functions. Make sure to ask the user to enter the number of numbers in the sequence to generate."
   ]
  },
  {
   "cell_type": "code",
   "execution_count": 15,
   "id": "1fda9d92",
   "metadata": {},
   "outputs": [
    {
     "name": "stdout",
     "output_type": "stream",
     "text": [
      "\n",
      " enter the number till what number you want fibonacci series11\n",
      "0\n",
      "1\n",
      "1\n",
      "2\n",
      "3\n",
      "5\n",
      "8\n",
      "13\n",
      "21\n",
      "34\n",
      "55\n",
      "89\n"
     ]
    }
   ],
   "source": [
    "def fibonacci():                    #define func\n",
    "    a=0\n",
    "    b=1\n",
    "    n=int(input(\"\\n enter the number till what number you want fibonacci series\"))\n",
    "    if n<0:\n",
    "        print(\"\\n not valid\")\n",
    "    elif n==0:\n",
    "        print(a)\n",
    "    elif n==1:\n",
    "        print(b)\n",
    "    else:\n",
    "            print(a)\n",
    "            print(b)\n",
    "            for i in range(1,n):\n",
    "                temp=a+b\n",
    "                a=b\n",
    "                b=temp\n",
    "                print(temp)\n",
    "        \n",
    "fibonacci()                    #call func\n",
    "        "
   ]
  },
  {
   "cell_type": "markdown",
   "id": "87a0a8bf",
   "metadata": {},
   "source": [
    "## Reverse the number\n",
    "### 2:Python program to display the given integer in reverse manner.Make the code modular.\n",
    " "
   ]
  },
  {
   "cell_type": "code",
   "execution_count": 9,
   "id": "df3cb5b1",
   "metadata": {},
   "outputs": [
    {
     "name": "stdout",
     "output_type": "stream",
     "text": [
      "*-----------1st METHOD-------------*\n",
      "Enter a number:- 123433\n",
      "Reversed number:--  334321\n"
     ]
    }
   ],
   "source": [
    "print(\"*-----------1st METHOD-------------*\")\n",
    "\n",
    "def rev():\n",
    "    n1 = int(input(\"Enter a number:- \"))\n",
    "\n",
    "    reverse = 0\n",
    "\n",
    "    while n1 > 0:\n",
    "        rem = n1 % 10                  # extract the last digit\n",
    "        reverse = reverse * 10 + rem    # append rem to the end of the reversed number\n",
    "        n1 //= 10                      # drop the last digit\n",
    "    print(\"Reversed number:-- \", reverse)\n",
    "rev()"
   ]
  },
  {
   "cell_type": "code",
   "execution_count": 12,
   "id": "efcb3e24",
   "metadata": {},
   "outputs": [
    {
     "name": "stdout",
     "output_type": "stream",
     "text": [
      "\n",
      " enter the length of array5\n",
      "\n",
      " enter the n0.------>1\n",
      "\n",
      " enter the n0.------>2\n",
      "\n",
      " enter the n0.------>3\n",
      "\n",
      " enter the n0.------>4\n",
      "\n",
      " ---enter numbers are---\n",
      "1234\n",
      "------reverse number are--------\n",
      "4321"
     ]
    }
   ],
   "source": [
    "print(\"*---------------2nd METHOD-------------*\")\n",
    "from array import *\n",
    "arr=array('i',[])\n",
    "def reverse(): \n",
    "    n=int(input(\"\\n enter the length of array---->\"))\n",
    "    for i in range(1,n):\n",
    "        x=int(input(\"\\n enter the n0.------>\"))\n",
    "        arr.append(x)\n",
    "    print(\"\\n ---enter numbers are---\")\n",
    "    for x in range(1,n):\n",
    "        print(x,end=\"\")\n",
    "    print(\"\\n------reverse number are--------\")\n",
    "    for x in range(n-1,0,-1):\n",
    "        print(x,end=\"\")\n",
    "reverse() \n",
    "\n",
    "        "
   ]
  },
  {
   "cell_type": "markdown",
   "id": "c6b5b783",
   "metadata": {},
   "source": [
    "# Check if number is prime.\n",
    "### 3:Write a python function to check whether the given integer is a prime number or not\n"
   ]
  },
  {
   "cell_type": "code",
   "execution_count": 20,
   "id": "fb177472",
   "metadata": {},
   "outputs": [
    {
     "name": "stdout",
     "output_type": "stream",
     "text": [
      "\n",
      " enter the number-->55\n",
      "\n",
      " YESSS! it is a prime number\n"
     ]
    }
   ],
   "source": [
    "def prime():\n",
    "    n=int(input(\"\\n enter the number-->\"))\n",
    "    if n==1:\n",
    "        print(\"\\n neither prime number nor composite\")\n",
    "        #return false\n",
    "    elif n==2:\n",
    "        print(\"\\n It is even prime number\")\n",
    "        #return true\n",
    "    elif n%2==0:\n",
    "        print(\"\\n It is not a prime number\")\n",
    "    else:\n",
    "        print(\"\\n YESSS! It is a prime number\")\n",
    "        \n",
    "prime()\n",
    "        "
   ]
  },
  {
   "cell_type": "markdown",
   "id": "f625573a",
   "metadata": {},
   "source": [
    "# Check Palindrome Number \n",
    "### 4:Write a program to check if the given number is a palindrome number. A palindrome number is a number that is the same after reverse."
   ]
  },
  {
   "cell_type": "code",
   "execution_count": 21,
   "id": "eb7cba1b",
   "metadata": {},
   "outputs": [
    {
     "name": "stdout",
     "output_type": "stream",
     "text": [
      "Enter a number:12321\n",
      "The number is palindrome!\n"
     ]
    }
   ],
   "source": [
    "def palin():\n",
    "    num=int(input(\"Enter a number:\"))\n",
    "    temp=num\n",
    "    rev=0\n",
    "    while(num>0):\n",
    "        dig=num%10\n",
    "        rev=rev*10+dig\n",
    "        num=num//10\n",
    "    if(temp==rev):\n",
    "        print(\"The number is palindrome!\")\n",
    "    else:\n",
    "        print(\"Not a palindrome!\")\n",
    "        \n",
    "palin()"
   ]
  },
  {
   "cell_type": "code",
   "execution_count": null,
   "id": "7e59d4b5",
   "metadata": {},
   "outputs": [],
   "source": []
  }
 ],
 "metadata": {
  "kernelspec": {
   "display_name": "Python 3 (ipykernel)",
   "language": "python",
   "name": "python3"
  },
  "language_info": {
   "codemirror_mode": {
    "name": "ipython",
    "version": 3
   },
   "file_extension": ".py",
   "mimetype": "text/x-python",
   "name": "python",
   "nbconvert_exporter": "python",
   "pygments_lexer": "ipython3",
   "version": "3.9.12"
  }
 },
 "nbformat": 4,
 "nbformat_minor": 5
}
